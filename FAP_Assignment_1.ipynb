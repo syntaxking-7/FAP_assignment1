{
  "nbformat": 4,
  "nbformat_minor": 0,
  "metadata": {
    "colab": {
      "provenance": [],
      "authorship_tag": "ABX9TyMxfMgH+OtGxcTqyrcGJbRB",
      "include_colab_link": true
    },
    "kernelspec": {
      "name": "python3",
      "display_name": "Python 3"
    },
    "language_info": {
      "name": "python"
    }
  },
  "cells": [
    {
      "cell_type": "markdown",
      "metadata": {
        "id": "view-in-github",
        "colab_type": "text"
      },
      "source": [
        "<a href=\"https://colab.research.google.com/github/syntaxking-7/FAP_assignment1/blob/main/FAP_Assignment_1.ipynb\" target=\"_parent\"><img src=\"https://colab.research.google.com/assets/colab-badge.svg\" alt=\"Open In Colab\"/></a>"
      ]
    },
    {
      "cell_type": "code",
      "execution_count": null,
      "metadata": {
        "colab": {
          "base_uri": "https://localhost:8080/"
        },
        "id": "REnpDaRoM3x8",
        "outputId": "1932d9dc-76f6-4da5-e669-6aba10739f75"
      },
      "outputs": [
        {
          "output_type": "stream",
          "name": "stdout",
          "text": [
            "The first 5 rows : \n",
            "   longitude  latitude  housing_median_age  total_rooms  total_bedrooms  \\\n",
            "0    -114.31     34.19                15.0       5612.0          1283.0   \n",
            "1    -114.47     34.40                19.0       7650.0          1901.0   \n",
            "2    -114.56     33.69                17.0        720.0           174.0   \n",
            "3    -114.57     33.64                14.0       1501.0           337.0   \n",
            "4    -114.57     33.57                20.0       1454.0           326.0   \n",
            "\n",
            "   population  households  median_income  median_house_value  \n",
            "0      1015.0       472.0         1.4936             66900.0  \n",
            "1      1129.0       463.0         1.8200             80100.0  \n",
            "2       333.0       117.0         1.6509             85700.0  \n",
            "3       515.0       226.0         3.1917             73400.0  \n",
            "4       624.0       262.0         1.9250             65500.0  \n",
            "\n",
            "The last 10 rows : \n",
            "       longitude  latitude  housing_median_age  total_rooms  total_bedrooms  \\\n",
            "16990    -124.22     41.73                28.0       3003.0           699.0   \n",
            "16991    -124.23     41.75                11.0       3159.0           616.0   \n",
            "16992    -124.23     40.81                52.0       1112.0           209.0   \n",
            "16993    -124.23     40.54                52.0       2694.0           453.0   \n",
            "16994    -124.25     40.28                32.0       1430.0           419.0   \n",
            "16995    -124.26     40.58                52.0       2217.0           394.0   \n",
            "16996    -124.27     40.69                36.0       2349.0           528.0   \n",
            "16997    -124.30     41.84                17.0       2677.0           531.0   \n",
            "16998    -124.30     41.80                19.0       2672.0           552.0   \n",
            "16999    -124.35     40.54                52.0       1820.0           300.0   \n",
            "\n",
            "       population  households  median_income  median_house_value  \n",
            "16990      1530.0       653.0         1.7038             78300.0  \n",
            "16991      1343.0       479.0         2.4805             73200.0  \n",
            "16992       544.0       172.0         3.3462             50800.0  \n",
            "16993      1152.0       435.0         3.0806            106700.0  \n",
            "16994       434.0       187.0         1.9417             76100.0  \n",
            "16995       907.0       369.0         2.3571            111400.0  \n",
            "16996      1194.0       465.0         2.5179             79000.0  \n",
            "16997      1244.0       456.0         3.0313            103600.0  \n",
            "16998      1298.0       478.0         1.9797             85800.0  \n",
            "16999       806.0       270.0         3.0147             94600.0  \n",
            "\n",
            "          longitude      latitude  housing_median_age   total_rooms  \\\n",
            "count  17000.000000  17000.000000        17000.000000  17000.000000   \n",
            "mean    -119.562108     35.625225           28.589353   2643.664412   \n",
            "std        2.005166      2.137340           12.586937   2179.947071   \n",
            "min     -124.350000     32.540000            1.000000      2.000000   \n",
            "25%     -121.790000     33.930000           18.000000   1462.000000   \n",
            "50%     -118.490000     34.250000           29.000000   2127.000000   \n",
            "75%     -118.000000     37.720000           37.000000   3151.250000   \n",
            "max     -114.310000     41.950000           52.000000  37937.000000   \n",
            "\n",
            "       total_bedrooms    population    households  median_income  \\\n",
            "count    17000.000000  17000.000000  17000.000000   17000.000000   \n",
            "mean       539.410824   1429.573941    501.221941       3.883578   \n",
            "std        421.499452   1147.852959    384.520841       1.908157   \n",
            "min          1.000000      3.000000      1.000000       0.499900   \n",
            "25%        297.000000    790.000000    282.000000       2.566375   \n",
            "50%        434.000000   1167.000000    409.000000       3.544600   \n",
            "75%        648.250000   1721.000000    605.250000       4.767000   \n",
            "max       6445.000000  35682.000000   6082.000000      15.000100   \n",
            "\n",
            "       median_house_value  \n",
            "count        17000.000000  \n",
            "mean        207300.912353  \n",
            "std         115983.764387  \n",
            "min          14999.000000  \n",
            "25%         119400.000000  \n",
            "50%         180400.000000  \n",
            "75%         265000.000000  \n",
            "max         500001.000000  \n",
            "The number of unique elements are :  1848\n",
            "\n",
            "The mean for the column total_bedrooms_per_total_rooms is  0.21275998821034803  and standard deviation is  0.057823008903161756\n",
            "\n",
            "The subset formed which satisfies the given conditions : \n",
            "       longitude  latitude  housing_median_age  total_rooms  total_bedrooms  \\\n",
            "133      -116.06     34.15                15.0      10377.0          2331.0   \n",
            "191      -116.36     33.88                11.0      12557.0          3098.0   \n",
            "198      -116.38     33.73                10.0      11836.0          2405.0   \n",
            "201      -116.39     33.82                15.0      11115.0          2257.0   \n",
            "229      -116.47     33.81                 7.0      10105.0          2481.0   \n",
            "...          ...       ...                 ...          ...             ...   \n",
            "12654    -121.75     38.67                 9.0      12139.0          2640.0   \n",
            "12772    -121.79     36.64                11.0      32627.0          6445.0   \n",
            "13388    -121.94     38.27                35.0      10869.0          2226.0   \n",
            "13707    -122.00     38.25                 7.0      11768.0          1893.0   \n",
            "15436    -122.31     40.55                11.0      13714.0          2302.0   \n",
            "\n",
            "       population  households  median_income  median_house_value  \\\n",
            "133        4507.0      1807.0         2.2466             66800.0   \n",
            "191        2453.0      1232.0         1.7844             78500.0   \n",
            "198        3811.0      1570.0         4.0079            134500.0   \n",
            "201        4122.0      1653.0         2.7219             74400.0   \n",
            "229        6274.0      2095.0         2.4497             90900.0   \n",
            "...           ...         ...            ...                 ...   \n",
            "12654      6837.0      2358.0         3.1250            132500.0   \n",
            "12772     28566.0      6082.0         2.3087            118800.0   \n",
            "13388      9879.0      2152.0         2.5681             81300.0   \n",
            "13707      6657.0      1874.0         4.9222            142900.0   \n",
            "15436      6511.0      2267.0         3.5522            100100.0   \n",
            "\n",
            "       total_bedrooms_per_total_rooms  \n",
            "133                          0.224631  \n",
            "191                          0.246715  \n",
            "198                          0.203194  \n",
            "201                          0.203059  \n",
            "229                          0.245522  \n",
            "...                               ...  \n",
            "12654                        0.217481  \n",
            "12772                        0.197536  \n",
            "13388                        0.204803  \n",
            "13707                        0.160860  \n",
            "15436                        0.167858  \n",
            "\n",
            "[67 rows x 10 columns]\n",
            "\n"
          ]
        }
      ],
      "source": [
        "# Part 1: Data Exploration with Pandas\n",
        "\n",
        "import pandas as pd\n",
        "import numpy as np\n",
        "\n",
        "# loading the dataset\n",
        "df = pd.read_csv(\"/content/sample_data/california_housing_train.csv\") # importing the csv file into pyhton notebook\n",
        "print(\"The first 5 rows : \")\n",
        "print(df.head(5)) # displays first 5 rows\n",
        "print()\n",
        "print(\"The last 10 rows : \")\n",
        "print(df.tail(10)) # displays last 10 rows\n",
        "print()\n",
        "\n",
        "# data summary\n",
        "print(df.describe()) # fucntion used for statistical analysis\n",
        "unique = df['total_bedrooms'].nunique() # used to count number of unique elements\n",
        "print(\"The number of unique elements are : \",unique)\n",
        "print()\n",
        "\n",
        "# data transformation\n",
        "df['total_bedrooms_per_total_rooms'] = df['total_bedrooms']/df['total_rooms'] # addition of new columns as specified\n",
        "mean = df['total_bedrooms_per_total_rooms'].mean() # using mean and std functions to calculate mean and standard deviation resp\n",
        "standard_deviation = df['total_bedrooms_per_total_rooms'].std()\n",
        "print(\"The mean for the column total_bedrooms_per_total_rooms is \",mean,\" and standard deviation is \",standard_deviation)\n",
        "print()\n",
        "\n",
        "# data filtering\n",
        "df_filtered_1 = df[df['median_income']>5] #Filtering the dataset to find rows where the median_income is greater than 5\n",
        "df_filtered_2 = df[(df['total_rooms']>10000) & (df['median_house_value']<150000)] # filtering as per second condition and printing it\n",
        "print(\"The subset formed which satisfies the given conditions : \")\n",
        "print(df_filtered_2)\n",
        "print()\n",
        "\n",
        "# exporting modified data\n",
        "df.to_csv('modified_data.csv')"
      ]
    },
    {
      "cell_type": "code",
      "source": [
        "# Part 2 : Numerical Analysis with NumPy\n",
        "\n",
        "import pandas as pd\n",
        "import numpy as np\n",
        "\n",
        "# Array creation and indexing\n",
        "array1D = np.arange(1,21) # creating a 1-D array from 1 to 20\n",
        "array1D_even = array1D[1:21:2] # slicing with start index as 1 and step size as 2\n",
        "array2D = np.random.randint(10,101,size = (5,4)) # creating 5 * 4 matrix using random function\n",
        "array2D_extracted = array2D[0:3,0:2] # creating the sub-matrix\n",
        "print(\"The creates 2D array of 5*4 order with integers from o to 100 : \")\n",
        "print(array2D)\n",
        "print(\"The extracted 3 * 2 subarray from the above 2D array : \")\n",
        "print(array2D_extracted)\n",
        "print()\n",
        "\n",
        "# Array Manipulation\n",
        "reshape_1D_into_2D = np.reshape(array1D, (4,5)) #creating a 2-D matrix of 4*5\n",
        "reshape_2D_into_1D = np.reshape(reshape_1D_into_2D,(1,20)) # falttening the 2D matrix into an array and printing it\n",
        "print(\"The flattened 1D array created from the 2D array : \")\n",
        "print(reshape_2D_into_1D)\n",
        "\n",
        "array2D_generated = np.random.randint(10,101,size = (5,4)) # randomly generating a 2-D matrix of order 5 * 4 and multiplying it with 2-D matrix of 1-20.\n",
        "multiplied_matrix = np.matmul(reshape_1D_into_2D,array2D_generated)\n",
        "print(\"The matrix formed from the result of multiplication : \")\n",
        "print(multiplied_matrix)\n",
        "print()\n",
        "\n",
        "# Boolean And Fancy Indexing\n",
        "array_new = np.random.randint(0,101,50)\n",
        "\n",
        "array_new_extracted_boolean = array_new[array_new>50] # generates an array of all elements greater than 50\n",
        "print(\"The extracted array using boolean values : \")\n",
        "print(array_new_extracted_boolean)\n",
        "\n",
        "indices = [12,32,18,41] # take random indexes whose values we need to access\n",
        "array_new_extracted_fancy = array_new[indices]\n",
        "print(\"The extracted array using specified indices : \")\n",
        "print(array_new_extracted_fancy)\n",
        "print()\n",
        "\n",
        "# Statistical Operations (The 2-D array which i have used is the randomly generated one)\n",
        "# I have also printed the array on which i have done the operations on\n",
        "\n",
        "print(\" I have used the follwing array for this part: \")\n",
        "print(array2D)\n",
        "\n",
        "# specifying axis = 0 to operate on columns only\n",
        "print(\"Mean along columns : \",np.mean(array2D,axis = 0))\n",
        "print(\"Max along columns : \",np.max(array2D,axis = 0))\n",
        "print(\"Sum along columns : \",np.sum(array2D,axis = 0))\n",
        "\n",
        "# Creating the mask and using it to filter the matrix\n",
        "mask = (array2D> np.mean(array2D,axis = 0))\n",
        "array2D_masked = array2D[mask]\n",
        "print(\"The subarray satisfying the condition (created using mask) : \")\n",
        "print(array2D_masked)"
      ],
      "metadata": {
        "colab": {
          "base_uri": "https://localhost:8080/"
        },
        "id": "lFXHRE0YUOlf",
        "outputId": "644c1912-bb81-4760-b529-a66ce7328e28"
      },
      "execution_count": null,
      "outputs": [
        {
          "output_type": "stream",
          "name": "stdout",
          "text": [
            "The creates 2D array of 5*4 order with integers from o to 100 : \n",
            "[[100  87  62  20]\n",
            " [ 79  71  57  70]\n",
            " [ 85  49  16  42]\n",
            " [ 94  72  95  14]\n",
            " [ 27  93  96  65]]\n",
            "The extracted 3 * 2 subarray from the above 2D array : \n",
            "[[100  87]\n",
            " [ 79  71]\n",
            " [ 85  49]]\n",
            "\n",
            "The flattened 1D array created from the 2D array : \n",
            "[[ 1  2  3  4  5  6  7  8  9 10 11 12 13 14 15 16 17 18 19 20]]\n",
            "The matrix formed from the result of multiplication : \n",
            "[[ 744  782  843  843]\n",
            " [1994 2312 2298 2348]\n",
            " [3244 3842 3753 3853]\n",
            " [4494 5372 5208 5358]]\n",
            "\n",
            "The extracted array using boolean values : \n",
            "[63 92 99 58 68 83 64 94 58 64 70 88 87 97 66 59 79 88 56 96 83 53 53 52\n",
            " 91 90 70 54 78 54 60 67 86 94]\n",
            "The extracted array using specified indices : \n",
            "[11 83 97 78]\n",
            "\n",
            " I have used the follwing array for this part: \n",
            "[[100  87  62  20]\n",
            " [ 79  71  57  70]\n",
            " [ 85  49  16  42]\n",
            " [ 94  72  95  14]\n",
            " [ 27  93  96  65]]\n",
            "Mean along columns :  [77.  74.4 65.2 42.2]\n",
            "Max along columns :  [100  93  96  70]\n",
            "Sum along columns :  [385 372 326 211]\n",
            "The subarray satisfying the condition (created using mask) : \n",
            "[100  87  79  70  85  94  95  93  96  65]\n"
          ]
        }
      ]
    },
    {
      "cell_type": "code",
      "source": [
        "# Part 3 : Problem Solving with Python Basics\n",
        "\n",
        "# loops and conditional statements\n",
        "# 1) Printing Fibonacci\n",
        "\n",
        "a,b = 0,1\n",
        "while a<=100:\n",
        "  print(a,end = \" \")\n",
        "  temp = a+b\n",
        "  a = b\n",
        "  b = temp\n",
        "print()"
      ],
      "metadata": {
        "colab": {
          "base_uri": "https://localhost:8080/"
        },
        "id": "mNDMFgaYpfX2",
        "outputId": "22efec9e-5a83-42c0-8a50-c6468de04342"
      },
      "execution_count": null,
      "outputs": [
        {
          "output_type": "stream",
          "name": "stdout",
          "text": [
            "0 1 1 2 3 5 8 13 21 34 55 89 \n"
          ]
        }
      ]
    },
    {
      "cell_type": "code",
      "source": [
        "# loops and conditional statements\n",
        "# 2) Loop through numbers\n",
        "\n",
        "i = 1\n",
        "while i<=50:\n",
        "  if(i%3 == 0 and i%5 == 0) : print(i,\" FizzBuzz\")\n",
        "  elif (i%3 == 0) : print(i,\" Fizz\")\n",
        "  elif (i%5 == 0) : print(i,\" Buzz\")\n",
        "  i = i+1"
      ],
      "metadata": {
        "colab": {
          "base_uri": "https://localhost:8080/"
        },
        "id": "v1bbdwU50yN2",
        "outputId": "221c3eb7-879e-4fa6-f2a9-65b4c07180a9"
      },
      "execution_count": null,
      "outputs": [
        {
          "output_type": "stream",
          "name": "stdout",
          "text": [
            "3  Fizz\n",
            "5  Buzz\n",
            "6  Fizz\n",
            "9  Fizz\n",
            "10  Buzz\n",
            "12  Fizz\n",
            "15  FizzBuzz\n",
            "18  Fizz\n",
            "20  Buzz\n",
            "21  Fizz\n",
            "24  Fizz\n",
            "25  Buzz\n",
            "27  Fizz\n",
            "30  FizzBuzz\n",
            "33  Fizz\n",
            "35  Buzz\n",
            "36  Fizz\n",
            "39  Fizz\n",
            "40  Buzz\n",
            "42  Fizz\n",
            "45  FizzBuzz\n",
            "48  Fizz\n",
            "50  Buzz\n"
          ]
        }
      ]
    },
    {
      "cell_type": "code",
      "source": [
        "# Variable-length arguments\n",
        "#1) Median\n",
        "list_num = []\n",
        "print(\"Enter numbers whose median has to be calculated(when completed type finish)\")\n",
        "while True :\n",
        "  a = input()\n",
        "  if a==\"finish\" :\n",
        "    break\n",
        "  else :\n",
        "    num = int(a)\n",
        "    list_num.append(num)\n",
        "list_len = len(list_num)\n",
        "list_num.sort()\n",
        "\n",
        "if list_len % 2 == 0:\n",
        "  median = (list_num[list_len//2] + list_num[list_len//2 - 1])/2\n",
        "  print(median)\n",
        "else :\n",
        "  median = list_num[list_len//2]\n",
        "  print(median)"
      ],
      "metadata": {
        "colab": {
          "base_uri": "https://localhost:8080/"
        },
        "id": "cOG9U_a_yxYJ",
        "outputId": "545f8613-1cdc-4a60-e440-acd44c625bca"
      },
      "execution_count": null,
      "outputs": [
        {
          "output_type": "stream",
          "name": "stdout",
          "text": [
            "Enter numbers whose median has to be calculated(when completed type finish)\n",
            "12\n",
            "423\n",
            "22\n",
            "12\n",
            "233\n",
            "12\n",
            "finish\n",
            "17.0\n"
          ]
        }
      ]
    },
    {
      "cell_type": "code",
      "source": [
        "# Variable-length arguments\n",
        "#2) Mean\n",
        "list_num = []\n",
        "print(\"Enter numbers whose median has to be calculated(when completed type finish)\")\n",
        "while True :\n",
        "  a = input()\n",
        "  if a==\"finish\" :\n",
        "    break\n",
        "  else :\n",
        "    num = int(a)\n",
        "    list_num.append(num)\n",
        "list_len = len(list_num)\n",
        "list_sum = sum(list_num)\n",
        "mean = list_sum/list_len\n",
        "print(mean)"
      ],
      "metadata": {
        "colab": {
          "base_uri": "https://localhost:8080/"
        },
        "id": "4xNn3pVczcri",
        "outputId": "c109a9ab-a9f4-450e-afa0-3837d4a37eb5"
      },
      "execution_count": null,
      "outputs": [
        {
          "output_type": "stream",
          "name": "stdout",
          "text": [
            "Enter numbers whose median has to be calculated(when completed type finish)\n",
            "1\n",
            "2\n",
            "3\n",
            "12\n",
            "finish\n",
            "4.5\n"
          ]
        }
      ]
    },
    {
      "cell_type": "code",
      "source": [
        "# Error Handling\n",
        "a = input(\"Enter num1 : \")\n",
        "b = input(\"Enter num2 : \")\n",
        "if b == 0:\n",
        "  print(\"Division by 0 not allowed!\")\n",
        "else :\n",
        "  print(\"result of num1/num2 : \",int(a)/int(b))\n"
      ],
      "metadata": {
        "colab": {
          "base_uri": "https://localhost:8080/"
        },
        "id": "c9uOdBRkz1sS",
        "outputId": "6e0d9940-5f8b-4f78-83c6-16e5cf540a4a"
      },
      "execution_count": null,
      "outputs": [
        {
          "output_type": "stream",
          "name": "stdout",
          "text": [
            "Enter num1 : 12\n",
            "Enter num2 : 12\n",
            "result of num1/num2 :  1.0\n"
          ]
        }
      ]
    },
    {
      "cell_type": "code",
      "source": [
        "# Advanced NumPy Manipulation\n",
        "\n",
        "import numpy as np\n",
        "import pandas as pd\n",
        "\n",
        "a = int(input(\"Enter 1st dimension : \"))\n",
        "b = int(input(\"Enter 2nd dimension : \"))\n",
        "c = int(input(\"Enter 3rd dimension : \"))\n",
        "\n",
        "array_3D = np.random.randint(0,101,size = (a,b,c)) # creates a 3D array with random integers from 0 to 100\n",
        "print(array_3D)\n",
        "print()\n",
        "\n",
        "swapped_array_3D = np.swapaxes(array_3D,0,1) # we swap 1st and 2nd dimension so the swapped_array is a 3-D array with dimensions 3*2*4\n",
        "print(swapped_array_3D)\n",
        "print()\n",
        "\n",
        "sum_along_axes = np.sum(array_3D,axis = 0)\n",
        "print(sum_along_axes)"
      ],
      "metadata": {
        "colab": {
          "base_uri": "https://localhost:8080/"
        },
        "id": "SSdOn6e51U88",
        "outputId": "367d2493-cfe4-498e-93a2-025e3163e7d9"
      },
      "execution_count": null,
      "outputs": [
        {
          "output_type": "stream",
          "name": "stdout",
          "text": [
            "Enter 1st dimension : 2\n",
            "Enter 2nd dimension : 3\n",
            "Enter 3rd dimension : 4\n",
            "[[[58 19 15 19]\n",
            "  [75 68 24 21]\n",
            "  [13 30 54 52]]\n",
            "\n",
            " [[12 54 73 65]\n",
            "  [63 62  0 50]\n",
            "  [57 84 29 23]]]\n",
            "\n",
            "[[[58 19 15 19]\n",
            "  [12 54 73 65]]\n",
            "\n",
            " [[75 68 24 21]\n",
            "  [63 62  0 50]]\n",
            "\n",
            " [[13 30 54 52]\n",
            "  [57 84 29 23]]]\n",
            "\n",
            "[[ 70  73  88  84]\n",
            " [138 130  24  71]\n",
            " [ 70 114  83  75]]\n"
          ]
        }
      ]
    },
    {
      "cell_type": "code",
      "source": [
        "import numpy as np\n",
        "import pandas as pd\n",
        "\n",
        "array2D = np.random.randint(0,101,(3,4)) # creating a random 2D array with elements from o to 100 of order 3*4\n",
        "vector = np.array([1,2,3,4])\n",
        "\n",
        "new_2D_array = array2D + vector\n",
        "print(\"Original Matrix : \")\n",
        "print(array2D)\n",
        "print(\"New Matrix : \")\n",
        "print(new_2D_array)\n",
        "\n"
      ],
      "metadata": {
        "colab": {
          "base_uri": "https://localhost:8080/"
        },
        "id": "ohE2f-9h1-KE",
        "outputId": "d60395d6-5bbb-464c-c0ae-8b578fa5261c"
      },
      "execution_count": null,
      "outputs": [
        {
          "output_type": "stream",
          "name": "stdout",
          "text": [
            "Original Matrix : \n",
            "[[39  6 30 38]\n",
            " [65 18 46  9]\n",
            " [13 23  8 65]]\n",
            "New Matrix : \n",
            "[[40  8 33 42]\n",
            " [66 20 49 13]\n",
            " [14 25 11 69]]\n"
          ]
        }
      ]
    },
    {
      "cell_type": "code",
      "source": [],
      "metadata": {
        "id": "XlSBlF2XBfsi"
      },
      "execution_count": null,
      "outputs": []
    }
  ]
}